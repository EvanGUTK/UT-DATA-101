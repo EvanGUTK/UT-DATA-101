{
 "cells": [
  {
   "cell_type": "code",
   "execution_count": 68,
   "id": "255dfcb6-49cf-4f08-8375-60463d855947",
   "metadata": {},
   "outputs": [
    {
     "name": "stdout",
     "output_type": "stream",
     "text": [
      "\n",
      "Hello admin, would you like to see a status report?\n",
      "\n",
      "Hello Jaden, thank you for logging in again!\n",
      "\n",
      "Hello Ronnie, thank you for logging in again!\n",
      "\n",
      "Hello Evan, thank you for logging in again!\n",
      "\n",
      "Hello Jack, thank you for logging in again!\n",
      "\n",
      "Hello Liam, thank you for logging in again!\n",
      "\n",
      "Total Charges:\n",
      "\n",
      "Total weight is: 1.5 lbs - Total Charge is: $2.25\n",
      "\n",
      "Total weight is: 22 lbs - Total Charge is: $104.5\n",
      "\n",
      "Total weight is: 6 lbs - Total Charge is: $18.0\n",
      "\n",
      "Total weight is: 10.5 lbs - Total Charge is: $49.875\n"
     ]
    }
   ],
   "source": [
    "usernames = ['admin', 'Jaden', 'Ronnie', 'Evan', 'Jack', 'Liam']\n",
    "for user in usernames:\n",
    "    if user == 'admin':\n",
    "        print(\"\\nHello admin, would you like to see a status report?\")\n",
    "    else:\n",
    "        print(f\"\\nHello {user}, thank you for logging in again!\")\n",
    "\n",
    "def total_shipping(weight):\n",
    "    if weight <= 2:\n",
    "        rate = 1.50\n",
    "    elif weight <= 6:\n",
    "        rate = 3.00\n",
    "    elif weight <= 10:\n",
    "        rate = 4.00\n",
    "    else:\n",
    "        rate = 4.75\n",
    "\n",
    "    return weight*rate\n",
    "\n",
    "weights = [1.5, 22, 6, 10.5]\n",
    "\n",
    "print(\"\\nTotal Charges:\")\n",
    "for weight in weights:\n",
    "    charge = total_shipping(weight)\n",
    "    print(f\"\\nTotal weight is: {weight} lbs - Total Charge is: ${charge}\")"
   ]
  },
  {
   "cell_type": "code",
   "execution_count": null,
   "id": "e636f182-b0f1-45b4-ac3e-9817668c48cb",
   "metadata": {},
   "outputs": [],
   "source": []
  }
 ],
 "metadata": {
  "kernelspec": {
   "display_name": "Python [conda env:base] *",
   "language": "python",
   "name": "conda-base-py"
  },
  "language_info": {
   "codemirror_mode": {
    "name": "ipython",
    "version": 3
   },
   "file_extension": ".py",
   "mimetype": "text/x-python",
   "name": "python",
   "nbconvert_exporter": "python",
   "pygments_lexer": "ipython3",
   "version": "3.12.7"
  }
 },
 "nbformat": 4,
 "nbformat_minor": 5
}
