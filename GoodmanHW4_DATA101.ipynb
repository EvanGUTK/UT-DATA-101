{
 "cells": [
  {
   "cell_type": "code",
   "execution_count": 7,
   "id": "1aa322b8-01a5-49eb-9cf3-bd80412f6094",
   "metadata": {},
   "outputs": [
    {
     "name": "stdin",
     "output_type": "stream",
     "text": [
      "Enter test score 1:  89\n",
      "Enter test score 2:  87\n",
      "Enter test score 3:  89\n",
      "Enter test score 4:  96\n",
      "Enter test score 5:  81\n",
      "Enter test score 6:  79\n",
      "Enter test score 7:  91\n",
      "Enter test score 8:  78\n"
     ]
    },
    {
     "name": "stdout",
     "output_type": "stream",
     "text": [
      "\n",
      "Test Scores and Letter Grades:\n",
      "Test 1: 89.0 -> B\n",
      "Test 2: 87.0 -> B\n",
      "Test 3: 89.0 -> B\n",
      "Test 4: 96.0 -> A\n",
      "Test 5: 81.0 -> B\n",
      "Test 6: 79.0 -> C\n",
      "Test 7: 91.0 -> A\n",
      "Test 8: 78.0 -> C\n",
      "\n",
      "Average Score: 86.25\n",
      "Overall Grade: B\n"
     ]
    }
   ],
   "source": [
    "def calc_av(scores):\n",
    "    return sum(scores) / len(scores)\n",
    "\n",
    "#Loops to check users grades\n",
    "def grade(score):\n",
    "    if score >= 90:\n",
    "        return \"A\"\n",
    "    elif score >= 80:\n",
    "        return \"B\"\n",
    "    elif score >= 70:\n",
    "        return \"C\"\n",
    "    elif score >= 60:\n",
    "        return \"D\"\n",
    "    else:\n",
    "        return \"F\"\n",
    "\n",
    "scores = []  # List to store scores\n",
    "\n",
    "#Asks user for 8 grades\n",
    "for i in range(8):\n",
    "    score = float(input(f\"Enter test score {i+1}: \"))  # Get input\n",
    "    scores.append(score)\n",
    "\n",
    "avg_score = calc_av(scores)\n",
    "\n",
    "#Assigns letter grade\n",
    "print(\"\\nTest Scores and Letter Grades:\")\n",
    "for i in range(8):\n",
    "    print(f\"Test {i+1}: {scores[i]} -> {grade(scores[i])}\")\n",
    "\n",
    "print(f\"\\nAverage Score: {avg_score:.2f}\")\n",
    "print(f\"Overall Letter Grade: {grade(avg_score)}\")\n"
   ]
  },
  {
   "cell_type": "code",
   "execution_count": null,
   "id": "9330c52d-4e8a-4190-ac0c-45b6d0ac0a38",
   "metadata": {},
   "outputs": [],
   "source": []
  }
 ],
 "metadata": {
  "kernelspec": {
   "display_name": "Python [conda env:base] *",
   "language": "python",
   "name": "conda-base-py"
  },
  "language_info": {
   "codemirror_mode": {
    "name": "ipython",
    "version": 3
   },
   "file_extension": ".py",
   "mimetype": "text/x-python",
   "name": "python",
   "nbconvert_exporter": "python",
   "pygments_lexer": "ipython3",
   "version": "3.12.7"
  }
 },
 "nbformat": 4,
 "nbformat_minor": 5
}
