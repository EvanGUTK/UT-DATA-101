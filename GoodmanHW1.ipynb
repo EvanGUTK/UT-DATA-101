{
 "cells": [
  {
   "cell_type": "markdown",
   "id": "163909d2-8bb4-48e0-8e3e-941dd21ed95c",
   "metadata": {},
   "source": [
    "# HW1 List places I would like to vist atleast 5 places."
   ]
  },
  {
   "cell_type": "code",
   "execution_count": 45,
   "id": "f3836878-1c26-4a29-b73a-4e8181d037a0",
   "metadata": {},
   "outputs": [
    {
     "name": "stdout",
     "output_type": "stream",
     "text": [
      "A few places I would love to vist are\n",
      "\n",
      "Here is orignial list\n",
      "['Alaska', 'Rome', 'Japan', 'Russia', 'China', 'Africa', 'Hawaii']\n",
      "\n",
      "Here is sorted list\n",
      "['Africa', 'Alaska', 'China', 'Hawaii', 'Japan', 'Rome', 'Russia']\n",
      "\n",
      "Here is original list again\n",
      "['Alaska', 'Rome', 'Japan', 'Russia', 'China', 'Africa', 'Hawaii']\n",
      "\n",
      "Here is reverse sorted list\n",
      "['Russia', 'Rome', 'Japan', 'Hawaii', 'China', 'Alaska', 'Africa']\n",
      "\n",
      "To show no change\n",
      "['Alaska', 'Rome', 'Japan', 'Russia', 'China', 'Africa', 'Hawaii']\n",
      "\n",
      "Here is reverse\n",
      "['Hawaii', 'Africa', 'China', 'Russia', 'Japan', 'Rome', 'Alaska']\n",
      "\n",
      "Original order, again\n",
      "['Alaska', 'Rome', 'Japan', 'Russia', 'China', 'Africa', 'Hawaii']\n",
      "\n",
      "Places using sort\n",
      "['Africa', 'Alaska', 'China', 'Hawaii', 'Japan', 'Rome', 'Russia']\n",
      "\n",
      "Places using sort reverse\n",
      "['Russia', 'Rome', 'Japan', 'Hawaii', 'China', 'Alaska', 'Africa']\n",
      "\n",
      "Original again\n",
      "['Alaska', 'Rome', 'Japan', 'Russia', 'China', 'Africa', 'Hawaii']\n",
      "\n",
      "Using index to print second, third, and last place\n",
      "Rome\n",
      "Japan\n",
      "Hawaii\n",
      "\n",
      "Using del to remove 2 items\n",
      "['Alaska', 'Rome', 'Japan', 'Russia', 'China']\n"
     ]
    }
   ],
   "source": [
    "message = (\"A few places I would love to vist are\")\n",
    "print(message)\n",
    "\n",
    "print(\"\\nHere is orignial list\")\n",
    "places = ['Rome', 'Japan', 'Russia', 'China', 'Africa']\n",
    "\n",
    "places.insert(0, 'Alaska')\n",
    "places.append('Hawaii')\n",
    "print(places)\n",
    "original_copy = places.copy()\n",
    "\n",
    "print(\"\\nHere is sorted list\")\n",
    "places_sorted = sorted(places)\n",
    "print(places_sorted)\n",
    "\n",
    "print(\"\\nHere is original list again\")\n",
    "print(places)\n",
    "\n",
    "print(\"\\nHere is reverse sorted list\")\n",
    "places_sorted = sorted(places, reverse=True)\n",
    "print(places_sorted)\n",
    "\n",
    "print(\"\\nTo show no change\")\n",
    "print(places)\n",
    "\n",
    "print(\"\\nHere is reverse\")\n",
    "places.reverse()\n",
    "print(places)\n",
    "\n",
    "print(\"\\nOriginal order, again\")\n",
    "places.reverse()\n",
    "print(places)\n",
    "\n",
    "print(\"\\nPlaces using sort\")\n",
    "places.sort()\n",
    "print(places)\n",
    "\n",
    "print(\"\\nPlaces using sort reverse\")\n",
    "places.sort(reverse=True)\n",
    "print(places)\n",
    "\n",
    "print(\"\\nOriginal again\")\n",
    "print(original_copy)\n",
    "\n",
    "print(\"\\nUsing index to print second, third, and last place\")\n",
    "print(original_copy[1].title())\n",
    "print(original_copy[2].title())\n",
    "print(original_copy[6].title())\n",
    "\n",
    "print(\"\\nUsing del to remove 2 items\")\n",
    "del original_copy[6]\n",
    "del original_copy[5]\n",
    "print(original_copy)"
   ]
  },
  {
   "cell_type": "code",
   "execution_count": null,
   "id": "a26505ba-2050-4454-868c-3b2412b47580",
   "metadata": {},
   "outputs": [],
   "source": []
  },
  {
   "cell_type": "code",
   "execution_count": null,
   "id": "f645dad7-00c5-44ae-9a0c-8afd329c0192",
   "metadata": {},
   "outputs": [],
   "source": []
  }
 ],
 "metadata": {
  "kernelspec": {
   "display_name": "Python 3 (ipykernel)",
   "language": "python",
   "name": "python3"
  },
  "language_info": {
   "codemirror_mode": {
    "name": "ipython",
    "version": 3
   },
   "file_extension": ".py",
   "mimetype": "text/x-python",
   "name": "python",
   "nbconvert_exporter": "python",
   "pygments_lexer": "ipython3",
   "version": "3.12.7"
  }
 },
 "nbformat": 4,
 "nbformat_minor": 5
}
