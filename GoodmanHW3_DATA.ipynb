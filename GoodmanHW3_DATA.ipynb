{
 "cells": [
  {
   "cell_type": "code",
   "execution_count": 30,
   "id": "5128afad-6efa-4e6e-8716-5856f492e44c",
   "metadata": {},
   "outputs": [
    {
     "name": "stdout",
     "output_type": "stream",
     "text": [
      "Part 1\n"
     ]
    },
    {
     "name": "stdin",
     "output_type": "stream",
     "text": [
      "\n",
      "Enter a course number:  CS101\n"
     ]
    },
    {
     "name": "stdout",
     "output_type": "stream",
     "text": [
      "Course Number: CS101\n",
      "Room Number: 3004\n",
      "Instructor: Haynes\n",
      "Meeting Time: 8:00 AM\n",
      "\n",
      "Part 2\n"
     ]
    },
    {
     "name": "stdin",
     "output_type": "stream",
     "text": [
      "\n",
      "Enter the radius of the circle:  2\n"
     ]
    },
    {
     "name": "stdout",
     "output_type": "stream",
     "text": [
      "\n",
      "The area of the circle is 12.56 square inches.\n"
     ]
    }
   ],
   "source": [
    "print(\"Part 1\")\n",
    "\n",
    "#Defining dictionary for room numbers, instructors, and meeting times for each course\n",
    "rooms = {\n",
    "    \"CS101\": \"3004\",\n",
    "    \"CS102\": \"4501\",\n",
    "    \"CS103\": \"6755\",\n",
    "    \"NT110\": \"1244\",\n",
    "    \"CM241\": \"1411\"\n",
    "}\n",
    "\n",
    "instructors = {\n",
    "    \"CS101\": \"Haynes\",\n",
    "    \"CS102\": \"Alvarado\",\n",
    "    \"CS103\": \"Rich\",\n",
    "    \"NT110\": \"Burke\",\n",
    "    \"CM241\": \"Lee\"\n",
    "}\n",
    "\n",
    "meetings = {\n",
    "    \"CS101\": \"8:00 AM\",\n",
    "    \"CS102\": \"9:00 AM\",\n",
    "    \"CS103\": \"10:00 AM\",\n",
    "    \"NT110\": \"11:00 AM\",\n",
    "    \"CM241\": \"1:00 PM\"\n",
    "}\n",
    "\n",
    "#Grabbing users input using input method\n",
    "courses = input(\"\\nEnter a course number: \")\n",
    "\n",
    "#Checks if course is in dictionary and prints using print and f strings\n",
    "if courses in rooms:\n",
    "    print(f\"Course Number: {courses}\")\n",
    "    print(f\"Room Number: {rooms[courses]}\")\n",
    "    print(f\"Instructor: {instructors[courses]}\")\n",
    "    print(f\"Meeting Time: {meetings[courses]}\")\n",
    "#Message is course is not available\n",
    "else:\n",
    "    print(\"Invalid course number. Please try again.\")\n",
    "\n",
    "print(\"\\nPart 2\")\n",
    "# Q2: Compute and display the area of a circle\n",
    "radius = float(input(\"\\nEnter the radius of the circle: \"))\n",
    "\n",
    "#Given Formula\n",
    "area = 3.14 * radius ** 2\n",
    "print(f\"\\nThe area of the circle is {area} square inches.\")\n"
   ]
  },
  {
   "cell_type": "code",
   "execution_count": null,
   "id": "60bf0644-dd3a-4ae5-a629-9f7e2bcdc419",
   "metadata": {},
   "outputs": [],
   "source": []
  }
 ],
 "metadata": {
  "kernelspec": {
   "display_name": "Python [conda env:base] *",
   "language": "python",
   "name": "conda-base-py"
  },
  "language_info": {
   "codemirror_mode": {
    "name": "ipython",
    "version": 3
   },
   "file_extension": ".py",
   "mimetype": "text/x-python",
   "name": "python",
   "nbconvert_exporter": "python",
   "pygments_lexer": "ipython3",
   "version": "3.12.7"
  }
 },
 "nbformat": 4,
 "nbformat_minor": 5
}
